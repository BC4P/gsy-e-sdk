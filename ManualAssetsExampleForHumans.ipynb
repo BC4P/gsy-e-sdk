{
 "cells": [
  {
   "cell_type": "markdown",
   "id": "19aa3134-d665-4cca-a925-1aeb82dace00",
   "metadata": {},
   "source": [
    "# GSY-e SDK for humans...:D\n",
    "\n",
    "The purpose of this notebook is to manually create an asset and connect it to a \\\n",
    "running GSY instance running with a redis connection. \"how difficult can it be\".\n"
   ]
  },
  {
   "cell_type": "markdown",
   "id": "eefa3b7a-9f2d-453c-945e-f7704360823e",
   "metadata": {},
   "source": [
    "#This is the SDK, assuming the installation went as expected, following the github advice\n",
    "#there should be all the classses readily available and importable\n",
    "\n",
    "Specifically, we did this before coming here:\n",
    "    \n",
    "git submodule update --init --recursive\n",
    "pip install -e . -e gsy-framework\n",
    "\n",
    "Do we have the libraries now?\n",
    "\n"
   ]
  },
  {
   "cell_type": "markdown",
   "id": "f4908622-8b07-437f-b818-21ad74b380d4",
   "metadata": {},
   "source": [
    "The documentation states:\n",
    "The constructor of the API class can connect and register automatically to a running collaboration.\n",
    "\n",
    "And then it creates\n",
    "\n",
    "asset_client = RedisAssetClient(<asset-uuid>, autoregister=True)\n",
    "    \n",
    "can we even import this RedisAssetClient?\n",
    "    \n",
    "By digging this is what I could do..."
   ]
  },
  {
   "cell_type": "code",
   "execution_count": 4,
   "id": "34a35c9c-917d-4996-bfa8-c20886d92399",
   "metadata": {},
   "outputs": [
    {
     "name": "stderr",
     "output_type": "stream",
     "text": [
      "Exception in thread Thread-7:\n",
      "Traceback (most recent call last):\n",
      "  File \"/home/tmaltus/anaconda3/envs/bc4p/lib/python3.10/threading.py\", line 1009, in _bootstrap_inner\n",
      "    self.run()\n",
      "  File \"/home/tmaltus/anaconda3/envs/bc4p/lib/python3.10/site-packages/redis/client.py\", line 1757, in run\n",
      "    pubsub.get_message(ignore_subscribe_messages=True, timeout=sleep_time)\n",
      "  File \"/home/tmaltus/anaconda3/envs/bc4p/lib/python3.10/site-packages/redis/client.py\", line 1650, in get_message\n",
      "    return self.handle_message(response, ignore_subscribe_messages)\n",
      "  File \"/home/tmaltus/anaconda3/envs/bc4p/lib/python3.10/site-packages/redis/client.py\", line 1715, in handle_message\n",
      "    handler(message)\n",
      "  File \"/media/tmaltus/12bfaee0-ff49-422e-a39b-d466076d3d11/BC4P/gsy-e-sdk/gsy_e_sdk/redis_client_base.py\", line 113, in _on_register\n",
      "    self._check_buffer_message_matching_command_and_id(message)\n",
      "  File \"/media/tmaltus/12bfaee0-ff49-422e-a39b-d466076d3d11/BC4P/gsy-e-sdk/gsy_e_sdk/redis_client_base.py\", line 65, in _check_buffer_message_matching_command_and_id\n",
      "    raise RedisAPIException(\n",
      "gsy_e_sdk.redis_client_base.RedisAPIException: There is no matching command response in _blocking_command_responses.\n"
     ]
    },
    {
     "name": "stdout",
     "output_type": "stream",
     "text": [
      "\n",
      "Registering assets ...\n",
      "Registered asset: Load 1 L13\n",
      "Registered asset: Load 2 L21\n",
      "Registered asset: Load 3 L17\n",
      "Registered asset: PV 1 (4kW)\n",
      "Registered asset: PV 3 (5kW)\n",
      "Registered asset: Tesla Powerwall 3\n",
      "\n",
      "Summary of assets registered:\n",
      "\n",
      "{'2d628281-c56e-414d-b83c-afdd21ca8c88': 'Load 1 L13', 'a4e1885c-8416-4276-a1ed-94b61cf452ed': 'Load 2 L21', '60997325-2dc2-44ac-bf66-c97d67627739': 'Load 3 L17', '3760366e-3306-48e5-b31d-6fffb5cde3dc': 'PV 1 (4kW)', 'ec814715-0c8a-4e2e-b1ab-7b6dec51afec': 'PV 3 (5kW)', '5b14e9e1-75ba-4c44-9730-8672bcc436a9': 'Tesla Powerwall 3'}\n"
     ]
    },
    {
     "ename": "KeyboardInterrupt",
     "evalue": "",
     "output_type": "error",
     "traceback": [
      "\u001b[0;31m---------------------------------------------------------------------------\u001b[0m",
      "\u001b[0;31mKeyboardInterrupt\u001b[0m                         Traceback (most recent call last)",
      "Cell \u001b[0;32mIn [4], line 55\u001b[0m\n\u001b[1;32m     53\u001b[0m \u001b[38;5;66;03m# loop to allow persistence\u001b[39;00m\n\u001b[1;32m     54\u001b[0m \u001b[38;5;28;01mwhile\u001b[39;00m \u001b[38;5;129;01mnot\u001b[39;00m aggregator\u001b[38;5;241m.\u001b[39mis_finished:\n\u001b[0;32m---> 55\u001b[0m     sleep(\u001b[38;5;241m0.5\u001b[39m)\n",
      "\u001b[0;31mKeyboardInterrupt\u001b[0m: "
     ]
    }
   ],
   "source": [
    "from simple_oracles.bc4p_simple_oracle import Oracle\n",
    "from typing import List, Dict\n",
    "from time import sleep\n",
    "from gsy_e_sdk.redis_aggregator import RedisAggregator\n",
    "from gsy_e_sdk.clients.redis_asset_client import RedisAssetClient\n",
    "\n",
    "#I an Oracle to be able to model things at will\n",
    "#An oracle is a RedisAggregator. A ReddisAggregator is an interface to deal\n",
    "#with a set of assets by name (see below), it leaves some methods not implemented\n",
    "#The oracle in  simple_oracles.bc4p_simple_oracle impelemts them\n",
    "#I am reorganizing the code so that it is understandable by a human...\n",
    "\n",
    "ORACLE_NAME = \"oracle\" #just a the name of the oracle, to call it something\n",
    "\n",
    "# List of assets' names to be connected with the API\n",
    "LOAD_NAMES = [\"Load 1 L13\", \"Load 2 L21\", \"Load 3 L17\"] #assets name, we need these to register to gsy assets\n",
    "PV_NAMES = [\"PV 1 (4kW)\", \"PV 3 (5kW)\"]\n",
    "STORAGE_NAMES = [\"Tesla Powerwall 3\"]\n",
    "\n",
    "#this oracle concept is also what we have to use to access external data, such as influxdb\n",
    "\n",
    "\n",
    "# Frequency of bids/offers posting in a market slot - to leave as it is\n",
    "TICK_DISPATCH_FREQUENCY_PERCENT = 10\n",
    "\n",
    "aggregator = Oracle(aggregator_name=ORACLE_NAME,TICK_DISPATCH_FREQUENCY_PERCENT=TICK_DISPATCH_FREQUENCY_PERCENT)\n",
    "#aggregator.TICK_DISPATCH_FREQUENCY_PERCENT = 10\n",
    "\n",
    "asset_args = {\"autoregister\": True, \"pubsub_thread\": aggregator.pubsub}\n",
    "\n",
    "\n",
    "def register_asset_list(asset_names: List, asset_params: Dict, asset_uuid_map: Dict) -> Dict:\n",
    "    \"\"\"Register the provided list of assets with the aggregator.\"\"\"\n",
    "    for asset_name in asset_names:\n",
    "        print(\"Registered asset:\", asset_name)\n",
    "        asset_params[\"area_id\"] = asset_name\n",
    "        asset = RedisAssetClient(**asset_params)# what if there is no market running?\n",
    "        asset_uuid_map[asset.area_uuid] = asset.area_id\n",
    "        asset.select_aggregator(aggregator.aggregator_uuid)\n",
    "    return asset_uuid_map\n",
    "\n",
    "\n",
    "print()\n",
    "print(\"Registering assets ...\")\n",
    "asset_uuid_mapping = {}\n",
    "asset_uuid_mapping = register_asset_list(LOAD_NAMES + PV_NAMES + STORAGE_NAMES,\n",
    "                                         asset_args, asset_uuid_mapping)\n",
    "print()\n",
    "print(\"Summary of assets registered:\")\n",
    "print()\n",
    "print(asset_uuid_mapping)\n",
    "\n",
    "# loop to allow persistence\n",
    "while not aggregator.is_finished:\n",
    "    sleep(0.5)\n",
    "\n"
   ]
  },
  {
   "cell_type": "markdown",
   "id": "68c893ee-fcb4-4d22-9dcc-67146469ed67",
   "metadata": {},
   "source": [
    "basic API stuff taken from \"redis_basic stragies, an asset has to be created for each of the registered assets\n",
    "the mapping is done through the id of the asset.\n",
    "everything then happens in oracles."
   ]
  },
  {
   "cell_type": "code",
   "execution_count": null,
   "id": "e6897b1f-941c-417e-9305-5c82751aea26",
   "metadata": {},
   "outputs": [],
   "source": []
  },
  {
   "cell_type": "code",
   "execution_count": null,
   "id": "a5685fd5-9464-42b2-b21d-8ccef41408e1",
   "metadata": {},
   "outputs": [],
   "source": []
  }
 ],
 "metadata": {
  "kernelspec": {
   "display_name": "Python 3 (ipykernel)",
   "language": "python",
   "name": "python3"
  },
  "language_info": {
   "codemirror_mode": {
    "name": "ipython",
    "version": 3
   },
   "file_extension": ".py",
   "mimetype": "text/x-python",
   "name": "python",
   "nbconvert_exporter": "python",
   "pygments_lexer": "ipython3",
   "version": "3.10.4"
  }
 },
 "nbformat": 4,
 "nbformat_minor": 5
}
